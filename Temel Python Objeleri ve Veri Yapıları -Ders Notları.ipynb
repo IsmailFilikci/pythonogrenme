{
 "cells": [
  {
   "cell_type": "markdown",
   "metadata": {},
   "source": [
    "İnteger int ile gösterilir ve tam sayı değerlerini kaydetmek için kullanılır!"
   ]
  },
  {
   "cell_type": "code",
   "execution_count": 7,
   "metadata": {},
   "outputs": [
    {
     "name": "stdout",
     "output_type": "stream",
     "text": [
      "5\n",
      "5\n"
     ]
    }
   ],
   "source": [
    "x=int(5)\n",
    "print(x)\n",
    "y=int(5.5)\n",
    "print(y)"
   ]
  },
  {
   "cell_type": "markdown",
   "metadata": {},
   "source": [
    "Float float ile gösterilir ve ondalık sayı değerlerini kaydetmek için kullanılır"
   ]
  },
  {
   "cell_type": "code",
   "execution_count": 6,
   "metadata": {},
   "outputs": [
    {
     "name": "stdout",
     "output_type": "stream",
     "text": [
      "5.0\n",
      "5.5\n"
     ]
    }
   ],
   "source": [
    "x=float(5)\n",
    "print(x)\n",
    "y=float(5.5)\n",
    "print(y)"
   ]
  },
  {
   "cell_type": "markdown",
   "metadata": {},
   "source": [
    "1. Değişken isimleri bir sayı ile başlayamaz.\n",
    "        2. Değişken ismi kelimelerden oluşuyorsa aralarında boşluk olamaz.\n",
    "        3. :'\",<>/?|\\()!@#$%^&*~-+ Buradaki semboller değişken ismi içinde kullanılamaz.(Sadece _ sembolü kullanılabilir)\n",
    "        4. Pythonda tanımlı anahtar kelimeler değişken ismi olarak kullanılamaz.(while, not vs. )"
   ]
  },
  {
   "cell_type": "markdown",
   "metadata": {},
   "source": [
    "İki değişkenin değerini birbiriyle değiştirme"
   ]
  },
  {
   "cell_type": "code",
   "execution_count": 1,
   "metadata": {},
   "outputs": [
    {
     "name": "stdout",
     "output_type": "stream",
     "text": [
      "7 5\n",
      "5 7\n"
     ]
    }
   ],
   "source": [
    "a=7\n",
    "b=5\n",
    "print(a,b)\n",
    "a,b=b,a\n",
    "print(a,b)"
   ]
  },
  {
   "cell_type": "markdown",
   "metadata": {},
   "source": [
    "i=i+1 yerine i+=1 kullanılabilir"
   ]
  },
  {
   "cell_type": "code",
   "execution_count": 2,
   "metadata": {},
   "outputs": [
    {
     "name": "stdout",
     "output_type": "stream",
     "text": [
      "7\n",
      "13\n"
     ]
    }
   ],
   "source": [
    "i=7\n",
    "print(i)\n",
    "i+=6\n",
    "print(i)"
   ]
  },
  {
   "cell_type": "markdown",
   "metadata": {},
   "source": [
    "\"#\" ve ''' yorum satırı eklemek için kullanılır"
   ]
  },
  {
   "cell_type": "code",
   "execution_count": null,
   "metadata": {},
   "outputs": [],
   "source": [
    "#tek yorum satırı\n",
    "\"\"\"\n",
    "çoklu yorum satırı\n",
    "\"\"\"\n",
    "fasdsfasdf"
   ]
  },
  {
   "cell_type": "markdown",
   "metadata": {},
   "source": [
    "// kalansız bölme(sonucu int olarak alma)ya yarar"
   ]
  },
  {
   "cell_type": "code",
   "execution_count": 3,
   "metadata": {},
   "outputs": [
    {
     "data": {
      "text/plain": [
       "4"
      ]
     },
     "execution_count": 3,
     "metadata": {},
     "output_type": "execute_result"
    }
   ],
   "source": [
    "9//2"
   ]
  },
  {
   "cell_type": "markdown",
   "metadata": {},
   "source": [
    "%kalanını almaya yarar"
   ]
  },
  {
   "cell_type": "code",
   "execution_count": 6,
   "metadata": {},
   "outputs": [
    {
     "data": {
      "text/plain": [
       "4"
      ]
     },
     "execution_count": 6,
     "metadata": {},
     "output_type": "execute_result"
    }
   ],
   "source": [
    "99%5"
   ]
  },
  {
   "cell_type": "markdown",
   "metadata": {},
   "source": [
    "** üs koymaya yarar"
   ]
  },
  {
   "cell_type": "code",
   "execution_count": 7,
   "metadata": {},
   "outputs": [
    {
     "data": {
      "text/plain": [
       "125"
      ]
     },
     "execution_count": 7,
     "metadata": {},
     "output_type": "execute_result"
    }
   ],
   "source": [
    "5**3"
   ]
  },
  {
   "cell_type": "markdown",
   "metadata": {},
   "source": [
    "- işaretini değiştirmeye yarar"
   ]
  },
  {
   "cell_type": "code",
   "execution_count": 8,
   "metadata": {},
   "outputs": [
    {
     "data": {
      "text/plain": [
       "15"
      ]
     },
     "execution_count": 8,
     "metadata": {},
     "output_type": "execute_result"
    }
   ],
   "source": [
    "b=-15\n",
    "-b"
   ]
  },
  {
   "cell_type": "markdown",
   "metadata": {},
   "source": [
    "1. Parantez içi her zaman önce yapılır.\n",
    "2. Çarpma ve Bölme her zaman Toplama ve Çıkarma işlemine göre önce yapılır.\n",
    "3. İşlemler soldan sağa değerlendirilir."
   ]
  },
  {
   "cell_type": "markdown",
   "metadata": {},
   "source": [
    "String Oluşturma\n",
    "Python'da string oluşturmanın birçok yolu bulunmaktadir.Bunların hangisini kullanacağınız tamamıyla size bağlıdır.İsterseniz string oluşturma işlemlerini görmeye çalışalım.\n",
    "\n",
    "#Tek tırnak ile\n",
    "'Mustafa Murat Coşkun'\n",
    "'Mustafa Murat Coşkun'\n",
    "#Çift Tırnak ile\n",
    "\"Mustafa Murat Coşkun\"\n",
    "'Mustafa Murat Coşkun'\n",
    "#3 tırnak ile\n",
    "\"\"\"Mustafa Murat Coşkun\"\"\"\n",
    "'Mustafa Murat Coşkun'"
   ]
  },
  {
   "cell_type": "code",
   "execution_count": 1,
   "metadata": {},
   "outputs": [
    {
     "data": {
      "text/plain": [
       "'a'"
      ]
     },
     "execution_count": 1,
     "metadata": {},
     "output_type": "execute_result"
    }
   ],
   "source": [
    "# 0. elemana  ulaşalım . Bunun için [] operatörünü kullanacağız.\n",
    "a = \"ali\"\n",
    "a[0]"
   ]
  },
  {
   "cell_type": "code",
   "execution_count": 3,
   "metadata": {},
   "outputs": [
    {
     "data": {
      "text/plain": [
       "'t'"
      ]
     },
     "execution_count": 3,
     "metadata": {},
     "output_type": "execute_result"
    }
   ],
   "source": [
    "#Pythonda stringler baştan olduğu gibi sondan da indekslenebilirler. Sondan başlayarak -1,-2 ... şeklinde indekslenirler\n",
    "# Sondaki eleman \"-1\" eleman\n",
    "a = \"murat\"\n",
    "a[-1]"
   ]
  },
  {
   "cell_type": "markdown",
   "metadata": {},
   "source": [
    "Peki uzun bir string'in sadece belirli bir kısmını elde etmek için ne yapacağız ? Bunun için indeksleri, :** ve **[] işaretini kullanacağız. Formülümüz şu şekilde ;\n",
    "\n",
    "[başlama indeksi : bitiş indeksi : atlama değeri]\n",
    "\n",
    "İsterseniz örneklerimize bakalım.\n",
    "\n"
   ]
  },
  {
   "cell_type": "code",
   "execution_count": 6,
   "metadata": {},
   "outputs": [],
   "source": [
    "a=\"Python Programlama Dili\""
   ]
  },
  {
   "cell_type": "code",
   "execution_count": 7,
   "metadata": {},
   "outputs": [
    {
     "data": {
      "text/plain": [
       "'on Pro'"
      ]
     },
     "execution_count": 7,
     "metadata": {},
     "output_type": "execute_result"
    }
   ],
   "source": [
    "# 4. indeksten başla 10.indekse kadar(dahil değil) al.\n",
    "a[4:10]"
   ]
  },
  {
   "cell_type": "code",
   "execution_count": 8,
   "metadata": {},
   "outputs": [
    {
     "data": {
      "text/plain": [
       "'oPg'"
      ]
     },
     "execution_count": 8,
     "metadata": {},
     "output_type": "execute_result"
    }
   ],
   "source": [
    "# 4.indeksten 12'nci indekse 3'er atlayarak stringi al.\n",
    "a[4:12:3]"
   ]
  },
  {
   "cell_type": "markdown",
   "metadata": {},
   "source": [
    "String Özellikleri\n",
    "Bir string'in uzunluğunu nasıl buluruz ? Bunun için Python'da len() fonksiyonu bulunmaktadır."
   ]
  },
  {
   "cell_type": "code",
   "execution_count": 9,
   "metadata": {},
   "outputs": [
    {
     "data": {
      "text/plain": [
       "23"
      ]
     },
     "execution_count": 9,
     "metadata": {},
     "output_type": "execute_result"
    }
   ],
   "source": [
    "# len() fonksiyonunu kullanma.\n",
    "a = \"Python Programlama Dili\"\n",
    "len(a)"
   ]
  },
  {
   "cell_type": "code",
   "execution_count": 10,
   "metadata": {},
   "outputs": [
    {
     "name": "stdout",
     "output_type": "stream",
     "text": [
      "Python Programlama DiliPython Programlama DiliPython Programlama Dili\n",
      "Python Programlama DiliPython Programlama Dili\n"
     ]
    }
   ],
   "source": [
    "#stringler toplanabilir çarpılabilir\n",
    "print(a*3)\n",
    "print(a+a)"
   ]
  },
  {
   "cell_type": "markdown",
   "metadata": {},
   "source": [
    "İnt tam sayı\n",
    "Float Ondalıklı Sayı\n",
    "String kelime"
   ]
  },
  {
   "cell_type": "code",
   "execution_count": 11,
   "metadata": {},
   "outputs": [
    {
     "name": "stdout",
     "output_type": "stream",
     "text": [
      "ismail\n"
     ]
    }
   ],
   "source": [
    "#print fonksiyonu ekrana birşey yazdırmak için kullanılır\n",
    "print(\"ismail\")"
   ]
  },
  {
   "cell_type": "code",
   "execution_count": 12,
   "metadata": {},
   "outputs": [
    {
     "name": "stdout",
     "output_type": "stream",
     "text": [
      "İsmail\n",
      "Filikci\n",
      "15\n"
     ]
    }
   ],
   "source": [
    "#\\n print fonksiyonunu bir alt satırda devam ettirmeye yarar\n",
    "print(\"İsmail\\nFilikci\\n15\")"
   ]
  },
  {
   "cell_type": "code",
   "execution_count": 14,
   "metadata": {},
   "outputs": [
    {
     "name": "stdout",
     "output_type": "stream",
     "text": [
      "Ocak\tMart\tŞubat\n"
     ]
    }
   ],
   "source": [
    "#\\t printde yazı yazarken bir tab boşluk bırakmaya yarar\n",
    "print(\"Ocak\\tMart\\tŞubat\")"
   ]
  },
  {
   "cell_type": "code",
   "execution_count": 16,
   "metadata": {},
   "outputs": [
    {
     "name": "stdout",
     "output_type": "stream",
     "text": [
      "<class 'str'>\n"
     ]
    }
   ],
   "source": [
    "#type fonksiyonu verinin tipini söyler\n",
    "a=\"ismail\"\n",
    "print(type(a))"
   ]
  },
  {
   "cell_type": "code",
   "execution_count": 20,
   "metadata": {},
   "outputs": [
    {
     "name": "stdout",
     "output_type": "stream",
     "text": [
      "T.B.M.M\n"
     ]
    }
   ],
   "source": [
    "#sep parametresi print fonksiyonunda virgül kullanıldığında yazarken virgül yerine ne koyulacağını belirler eğer hiçbirşey\n",
    "#yazmazsanız boşluktur\n",
    "print(\"T\",\"B\",\"M\",\"M\",sep=\".\")"
   ]
  },
  {
   "cell_type": "code",
   "execution_count": 1,
   "metadata": {},
   "outputs": [
    {
     "name": "stdout",
     "output_type": "stream",
     "text": [
      "İ s m a i l\n",
      "İ.s.m.a.i.l\n"
     ]
    }
   ],
   "source": [
    "#print ifadesinin başına * koyulursa her harf ayrı printmiş gibi yazar\n",
    "print(*\"İsmail\")\n",
    "print(*\"İsmail\",sep=\".\")"
   ]
  },
  {
   "cell_type": "code",
   "execution_count": 2,
   "metadata": {},
   "outputs": [
    {
     "name": "stdout",
     "output_type": "stream",
     "text": [
      "7 ve 3' nın toplamı 10'dır\n"
     ]
    }
   ],
   "source": [
    "#.format fonksiyonu (\")'yı kapatmadan değişken kullanmaya yarar\n",
    "a=7\n",
    "b=3\n",
    "print(\"{} ve {}' nın toplamı {}'dır\".format(a,b,a+b))"
   ]
  },
  {
   "cell_type": "code",
   "execution_count": 3,
   "metadata": {},
   "outputs": [
    {
     "data": {
      "text/plain": [
       "'Murat 43 54'"
      ]
     },
     "execution_count": 3,
     "metadata": {},
     "output_type": "execute_result"
    }
   ],
   "source": [
    "# Süslü parantezlerin içindeki sayılar format fonksiyonun içinden hangi sıradaki değerin geleceğini söylüyor.\n",
    "\"{1} {0} {2}\".format(43,\"Murat\",54)"
   ]
  },
  {
   "cell_type": "code",
   "execution_count": 4,
   "metadata": {},
   "outputs": [
    {
     "data": {
      "text/plain": [
       "'3.15 5.32 7.324'"
      ]
     },
     "execution_count": 4,
     "metadata": {},
     "output_type": "execute_result"
    }
   ],
   "source": [
    "# Süslü parantezlerin içindeki kullanım ondalıklı kısmın sadece 2 basamağına kadar almak istediğimiz söylüyor.\n",
    "\"{:.2f} {:.2f} {:.3f}\".format(3.1463,5.324,7.324324)"
   ]
  },
  {
   "cell_type": "code",
   "execution_count": 8,
   "metadata": {},
   "outputs": [
    {
     "name": "stdout",
     "output_type": "stream",
     "text": [
      "ismail\n"
     ]
    }
   ],
   "source": [
    "#listede değişik veri tiplerini saklıyabiliriz\n",
    "a=[72,\"ismail\",93,2004,15,169,\"filikci\"]\n",
    "print(a[1])"
   ]
  },
  {
   "cell_type": "code",
   "execution_count": 9,
   "metadata": {},
   "outputs": [
    {
     "name": "stdout",
     "output_type": "stream",
     "text": [
      "[]\n"
     ]
    }
   ],
   "source": [
    "#Boş liste\n",
    "a=[]\n",
    "print(a)"
   ]
  },
  {
   "cell_type": "code",
   "execution_count": 10,
   "metadata": {},
   "outputs": [
    {
     "name": "stdout",
     "output_type": "stream",
     "text": [
      "[]\n"
     ]
    }
   ],
   "source": [
    "#boş liste list komutu ilede yapılabilir\n",
    "a=list()\n",
    "print(a)"
   ]
  },
  {
   "cell_type": "code",
   "execution_count": 11,
   "metadata": {},
   "outputs": [
    {
     "name": "stdout",
     "output_type": "stream",
     "text": [
      "5\n"
     ]
    }
   ],
   "source": [
    "#len fonksiyonu burada da geçerli\n",
    "bilgi=[\"ismail\",\"filikci\",15,169,2004]\n",
    "print(len(bilgi))"
   ]
  },
  {
   "cell_type": "code",
   "execution_count": 12,
   "metadata": {},
   "outputs": [
    {
     "name": "stdout",
     "output_type": "stream",
     "text": [
      "İsmail\n",
      "['İ', 's', 'm', 'a', 'i', 'l']\n"
     ]
    }
   ],
   "source": [
    "#list fonksiyonu ile string listeye dönüşebilir\n",
    "a=\"İsmail\"\n",
    "b=list(a)\n",
    "print(a)\n",
    "print(b)"
   ]
  },
  {
   "cell_type": "code",
   "execution_count": 14,
   "metadata": {},
   "outputs": [
    {
     "name": "stdout",
     "output_type": "stream",
     "text": [
      "4\n"
     ]
    }
   ],
   "source": [
    "#indeksleme stringlerle aynı\n",
    "sayılar=[2,3,4,5,6,7,8,9]\n",
    "print(sayılar[2])"
   ]
  },
  {
   "cell_type": "code",
   "execution_count": 18,
   "metadata": {},
   "outputs": [
    {
     "name": "stdout",
     "output_type": "stream",
     "text": [
      "9\n",
      "9\n"
     ]
    }
   ],
   "source": [
    "#son eleman\n",
    "print(sayılar[-1])\n",
    "print(sayılar[len(sayılar)-1])"
   ]
  },
  {
   "cell_type": "code",
   "execution_count": 19,
   "metadata": {},
   "outputs": [],
   "source": [
    "a=[2,3,4,5,6,7,8,9]"
   ]
  },
  {
   "cell_type": "code",
   "execution_count": 1,
   "metadata": {},
   "outputs": [
    {
     "data": {
      "text/plain": [
       "[1, 2, 3, 4, 5, 6, 7, 8, 9, 10]"
      ]
     },
     "execution_count": 1,
     "metadata": {},
     "output_type": "execute_result"
    }
   ],
   "source": [
    "#listelerde str gibi toplanabilir\n",
    "liste1 =  [1,2,3,4,5]\n",
    "liste2 =  [6,7,8,9,10]\n",
    "a=liste1 + liste2\n",
    "a"
   ]
  },
  {
   "cell_type": "code",
   "execution_count": 2,
   "metadata": {},
   "outputs": [
    {
     "data": {
      "text/plain": [
       "[1, 2, 3, 4, 5, 1, 2, 3, 4, 5, 1, 2, 3, 4, 5]"
      ]
     },
     "execution_count": 2,
     "metadata": {},
     "output_type": "execute_result"
    }
   ],
   "source": [
    "#listelerde str gibi çarpılabilir\n",
    "liste1*3"
   ]
  },
  {
   "cell_type": "code",
   "execution_count": 4,
   "metadata": {},
   "outputs": [
    {
     "data": {
      "text/plain": [
       "[1, 2, 3, 4, 'Murat']"
      ]
     },
     "execution_count": 4,
     "metadata": {},
     "output_type": "execute_result"
    }
   ],
   "source": [
    "#Bir listeye bir tane eleman eklemek içinse aşağıdaki işlemi uygulayabiliriz.\n",
    "liste = [1,2,3,4]\n",
    "liste =  liste + [\"Murat\"]\n",
    "liste"
   ]
  },
  {
   "cell_type": "code",
   "execution_count": 5,
   "metadata": {},
   "outputs": [
    {
     "data": {
      "text/plain": [
       "[10, 11, 3, 4, 'Murat']"
      ]
     },
     "execution_count": 5,
     "metadata": {},
     "output_type": "execute_result"
    }
   ],
   "source": [
    "#bir listeye birden .ok eleman eklemek için aşağıdaki işlemi uygulayabiliriz\n",
    "liste[:2]=[10,11]\n",
    "liste"
   ]
  },
  {
   "cell_type": "code",
   "execution_count": 6,
   "metadata": {},
   "outputs": [
    {
     "name": "stdout",
     "output_type": "stream",
     "text": [
      "[10, 11, 3, 4, 'Murat']\n"
     ]
    },
    {
     "data": {
      "text/plain": [
       "[10, 11, 3, 4, 'Murat', 'İsmail']"
      ]
     },
     "execution_count": 6,
     "metadata": {},
     "output_type": "execute_result"
    }
   ],
   "source": [
    "#append metodu listeye yeni bir eleman eklemek içni kullanılır\n",
    "print(liste)\n",
    "liste.append(\"İsmail\")\n",
    "liste"
   ]
  },
  {
   "cell_type": "code",
   "execution_count": 7,
   "metadata": {},
   "outputs": [
    {
     "data": {
      "text/plain": [
       "'Murat'"
      ]
     },
     "execution_count": 7,
     "metadata": {},
     "output_type": "execute_result"
    }
   ],
   "source": [
    "#pop metodu listeden eğer sayı girilmezse son eğer sayı girilirse o sayıdaki elamanı atıp attığı elemanı göstermeye yarar\n",
    "liste.pop(4)"
   ]
  },
  {
   "cell_type": "code",
   "execution_count": 11,
   "metadata": {},
   "outputs": [
    {
     "data": {
      "text/plain": [
       "[0, 1, 2, 3, 4, 5, 6, 7, 8, 9]"
      ]
     },
     "execution_count": 11,
     "metadata": {},
     "output_type": "execute_result"
    }
   ],
   "source": [
    "#sort metodu sıralamaya sağlar\n",
    "liste=[8,6,4,7,5,1,2,3,0,9]\n",
    "#küçükten büyüğe\n",
    "liste.sort()\n",
    "liste"
   ]
  },
  {
   "cell_type": "code",
   "execution_count": 12,
   "metadata": {},
   "outputs": [
    {
     "data": {
      "text/plain": [
       "[9, 8, 7, 6, 5, 4, 3, 2, 1, 0]"
      ]
     },
     "execution_count": 12,
     "metadata": {},
     "output_type": "execute_result"
    }
   ],
   "source": [
    "#sort(reverse=True) metodu büyükten küçüğe sıralamak için\n",
    "liste.sort(reverse=True)\n",
    "liste"
   ]
  },
  {
   "cell_type": "code",
   "execution_count": 15,
   "metadata": {},
   "outputs": [
    {
     "data": {
      "text/plain": [
       "['a', 'i', 'ismail', 'q', 'r']"
      ]
     },
     "execution_count": 15,
     "metadata": {},
     "output_type": "execute_result"
    }
   ],
   "source": [
    "#sort eğer kelimelerde kullanılırsa alfabeye göre sıralar\n",
    "liste2=[\"ismail\",\"a\",\"q\",\"r\",\"i\"]\n",
    "liste2.sort()\n",
    "liste2"
   ]
  },
  {
   "cell_type": "code",
   "execution_count": 16,
   "metadata": {},
   "outputs": [
    {
     "data": {
      "text/plain": [
       "[[1, 2], ['ismail', 'i'], ['a', 'b']]"
      ]
     },
     "execution_count": 16,
     "metadata": {},
     "output_type": "execute_result"
    }
   ],
   "source": [
    "#iç içe liste kurulabilir\n",
    "liste1=[1,2]\n",
    "liste2=[\"ismail\",\"i\"]\n",
    "liste3=[\"a\",\"b\"]\n",
    "liste=[liste1,liste2,liste3]\n",
    "liste"
   ]
  },
  {
   "cell_type": "code",
   "execution_count": 19,
   "metadata": {},
   "outputs": [
    {
     "name": "stdout",
     "output_type": "stream",
     "text": [
      "['ismail', 'i']\n"
     ]
    },
    {
     "data": {
      "text/plain": [
       "'ismail'"
      ]
     },
     "execution_count": 19,
     "metadata": {},
     "output_type": "execute_result"
    }
   ],
   "source": [
    "#iç içe listelerde indexleme\n",
    "print(liste[1])\n",
    "liste[1][0]"
   ]
  },
  {
   "cell_type": "code",
   "execution_count": 20,
   "metadata": {},
   "outputs": [
    {
     "data": {
      "text/plain": [
       "tuple"
      ]
     },
     "execution_count": 20,
     "metadata": {},
     "output_type": "execute_result"
    }
   ],
   "source": [
    "#demetler listelerin değişmez halidir içinden hiçbir veri sonradan değiştirilemez\n",
    "demet=(\"ismail\",\"filikci\",\"15\")\n",
    "type(demet)"
   ]
  },
  {
   "cell_type": "code",
   "execution_count": 21,
   "metadata": {},
   "outputs": [
    {
     "data": {
      "text/plain": [
       "'15'"
      ]
     },
     "execution_count": 21,
     "metadata": {},
     "output_type": "execute_result"
    }
   ],
   "source": [
    "#demetlerin indexleri str ve list ile aynı\n",
    "demet[2]"
   ]
  },
  {
   "cell_type": "code",
   "execution_count": 23,
   "metadata": {},
   "outputs": [
    {
     "data": {
      "text/plain": [
       "0"
      ]
     },
     "execution_count": 23,
     "metadata": {},
     "output_type": "execute_result"
    }
   ],
   "source": [
    "#index metodu ile elemanın demetteki yerini öğrenebiliriz\n",
    "demet.index(\"ismail\")"
   ]
  },
  {
   "cell_type": "code",
   "execution_count": 24,
   "metadata": {},
   "outputs": [],
   "source": [
    "demet2=(5,7,9,6,3,2,1,4,8,5,6,3,2,1)"
   ]
  },
  {
   "cell_type": "code",
   "execution_count": 25,
   "metadata": {},
   "outputs": [
    {
     "data": {
      "text/plain": [
       "2"
      ]
     },
     "execution_count": 25,
     "metadata": {},
     "output_type": "execute_result"
    }
   ],
   "source": [
    "#count metodu ile içinde kaçtane o değerden geçtiğini bulabiliriz\n",
    "demet2.count(5)"
   ]
  },
  {
   "cell_type": "code",
   "execution_count": 27,
   "metadata": {},
   "outputs": [],
   "source": [
    "# Süslü Parantez ve iki nokta (:) ile anahtar değerlerimizi yerleştirelim.\n",
    "sözlük1 = {\"sıfır\":0,\"bir\":1,\"iki\":2,\"üç\":3}"
   ]
  },
  {
   "cell_type": "code",
   "execution_count": 28,
   "metadata": {},
   "outputs": [
    {
     "data": {
      "text/plain": [
       "{'sıfır': 0, 'bir': 1, 'iki': 2, 'üç': 3}"
      ]
     },
     "execution_count": 28,
     "metadata": {},
     "output_type": "execute_result"
    }
   ],
   "source": [
    "sözlük1"
   ]
  },
  {
   "cell_type": "code",
   "execution_count": 29,
   "metadata": {},
   "outputs": [
    {
     "data": {
      "text/plain": [
       "1"
      ]
     },
     "execution_count": 29,
     "metadata": {},
     "output_type": "execute_result"
    }
   ],
   "source": [
    "# \"bir\" anahtarına karşılık gelen değeri buluyoruz.\n",
    "sözlük1[\"bir\"]"
   ]
  },
  {
   "cell_type": "code",
   "execution_count": 30,
   "metadata": {},
   "outputs": [],
   "source": [
    "#sözlüğe eleman ekleme\n",
    "sözlük1[\"dört\"]=4"
   ]
  },
  {
   "cell_type": "code",
   "execution_count": 31,
   "metadata": {},
   "outputs": [
    {
     "data": {
      "text/plain": [
       "{'sıfır': 0, 'bir': 1, 'iki': 2, 'üç': 3, 'dört': 4}"
      ]
     },
     "execution_count": 31,
     "metadata": {},
     "output_type": "execute_result"
    }
   ],
   "source": [
    "sözlük1"
   ]
  },
  {
   "cell_type": "code",
   "execution_count": 35,
   "metadata": {},
   "outputs": [
    {
     "ename": "KeyError",
     "evalue": "0",
     "output_type": "error",
     "traceback": [
      "\u001b[1;31m---------------------------------------------------------------------------\u001b[0m",
      "\u001b[1;31mKeyError\u001b[0m                                  Traceback (most recent call last)",
      "\u001b[1;32m<ipython-input-35-75ab041de64b>\u001b[0m in \u001b[0;36m<module>\u001b[1;34m\u001b[0m\n\u001b[0;32m      1\u001b[0m \u001b[1;31m#sözlüklerde index yoktur\u001b[0m\u001b[1;33m\u001b[0m\u001b[1;33m\u001b[0m\u001b[1;33m\u001b[0m\u001b[0m\n\u001b[1;32m----> 2\u001b[1;33m \u001b[0msözlük1\u001b[0m\u001b[1;33m[\u001b[0m\u001b[1;36m0\u001b[0m\u001b[1;33m]\u001b[0m\u001b[1;33m\u001b[0m\u001b[1;33m\u001b[0m\u001b[0m\n\u001b[0m",
      "\u001b[1;31mKeyError\u001b[0m: 0"
     ]
    }
   ],
   "source": [
    "#sözlüklerde index yoktur\n",
    "sözlük1[0]"
   ]
  },
  {
   "cell_type": "code",
   "execution_count": 13,
   "metadata": {},
   "outputs": [
    {
     "data": {
      "text/plain": [
       "111"
      ]
     },
     "execution_count": 13,
     "metadata": {},
     "output_type": "execute_result"
    }
   ],
   "source": [
    "#sözlüklerin içine liste eklenebilir\n",
    "sözlük={\"bir\":[1,11,111],\"iki\":[2,22,222]}\n",
    "sözlük[\"bir\"][2]"
   ]
  },
  {
   "cell_type": "code",
   "execution_count": 12,
   "metadata": {},
   "outputs": [
    {
     "name": "stdout",
     "output_type": "stream",
     "text": [
      "{'iki': [2, 22, 222]}\n"
     ]
    },
    {
     "data": {
      "text/plain": [
       "{'iki': [2, 22, 222], 'bir': [3, 33, 333]}"
      ]
     },
     "execution_count": 12,
     "metadata": {},
     "output_type": "execute_result"
    }
   ],
   "source": [
    "#sözlüklerde değer değiştirme\n",
    "print(sözlük)\n",
    "sözlük[\"bir\"]=[3,33,333]\n",
    "sözlük"
   ]
  },
  {
   "cell_type": "code",
   "execution_count": 42,
   "metadata": {},
   "outputs": [
    {
     "data": {
      "text/plain": [
       "{'bir': 4}"
      ]
     },
     "execution_count": 42,
     "metadata": {},
     "output_type": "execute_result"
    }
   ],
   "source": [
    "#sözlükleri arttırmak için\n",
    "sözlük2={\"bir\":1}\n",
    "sözlük2[\"bir\"]+=3\n",
    "sözlük2"
   ]
  },
  {
   "cell_type": "code",
   "execution_count": 43,
   "metadata": {},
   "outputs": [
    {
     "name": "stdout",
     "output_type": "stream",
     "text": [
      "{'sıfır': 0, 'bir': 1, 'iki': 2, 'üç': 3, 'dört': 4}\n"
     ]
    },
    {
     "data": {
      "text/plain": [
       "{'sıfır': 0, 'bir': 1, 'iki': 2, 'üç': 3, 'dört': 4, 'beş': 5}"
      ]
     },
     "execution_count": 43,
     "metadata": {},
     "output_type": "execute_result"
    }
   ],
   "source": [
    "#sözlüklere dinamik olarak da eleman eklenebilir\n",
    "print(sözlük1)\n",
    "sözlük1[\"beş\"]=5\n",
    "sözlük1"
   ]
  },
  {
   "cell_type": "code",
   "execution_count": 44,
   "metadata": {},
   "outputs": [
    {
     "data": {
      "text/plain": [
       "1"
      ]
     },
     "execution_count": 44,
     "metadata": {},
     "output_type": "execute_result"
    }
   ],
   "source": [
    "#iç içe sözlük\n",
    "a = {\"sayılar\":{\"bir\":1,\"iki\":2,\"üç\":3},\"meyveler\":{\"kiraz\":\"yaz\",\"portakal\":\"kış\",\"erik\":\"yaz\"}}\n",
    "a[\"sayılar\"][\"bir\"]"
   ]
  },
  {
   "cell_type": "code",
   "execution_count": 3,
   "metadata": {},
   "outputs": [
    {
     "data": {
      "text/plain": [
       "dict_keys(['bir', 'iki'])"
      ]
     },
     "execution_count": 3,
     "metadata": {},
     "output_type": "execute_result"
    }
   ],
   "source": [
    "#keys methodu sadece anahtarları yazdırmak için kullanılır\n",
    "sözlük.keys()"
   ]
  },
  {
   "cell_type": "code",
   "execution_count": 5,
   "metadata": {},
   "outputs": [
    {
     "data": {
      "text/plain": [
       "dict_values([[1, 11, 111], [2, 22, 222]])"
      ]
     },
     "execution_count": 5,
     "metadata": {},
     "output_type": "execute_result"
    }
   ],
   "source": [
    "#values methodu sadece değerlerin yazdırılmasına yarar\n",
    "sözlük.values()"
   ]
  },
  {
   "cell_type": "code",
   "execution_count": 14,
   "metadata": {},
   "outputs": [
    {
     "data": {
      "text/plain": [
       "dict_items([('bir', [1, 11, 111]), ('iki', [2, 22, 222])])"
      ]
     },
     "execution_count": 14,
     "metadata": {},
     "output_type": "execute_result"
    }
   ],
   "source": [
    "#items methodu hem değerleri hem anahtarları liste içinde demet olarak yazdırılmasına yarar\n",
    "sözlük.items()"
   ]
  },
  {
   "cell_type": "code",
   "execution_count": 15,
   "metadata": {},
   "outputs": [
    {
     "name": "stdout",
     "output_type": "stream",
     "text": [
      "Lütfen bir sayı giriniz:89685\n",
      "Kullanıcının girdiği değer: 89685\n"
     ]
    }
   ],
   "source": [
    "#input kullanımı\n",
    "a = input(\"Lütfen bir sayı giriniz:\") # Kullanıcıdan aldığımız değer a değişkenine eşit olacak.\n",
    "print(\"Kullanıcının girdiği değer:\",a)"
   ]
  },
  {
   "cell_type": "code",
   "execution_count": 16,
   "metadata": {},
   "outputs": [
    {
     "name": "stdout",
     "output_type": "stream",
     "text": [
      "değer:9\n",
      "999\n"
     ]
    }
   ],
   "source": [
    "#inputta girilen değer str olarak alınır\n",
    "a=input(\"değer:\")\n",
    "print(a*3)"
   ]
  },
  {
   "cell_type": "code",
   "execution_count": 17,
   "metadata": {},
   "outputs": [
    {
     "name": "stdout",
     "output_type": "stream",
     "text": [
      "Lütfen bir sayı giriniz:9\n",
      "27\n"
     ]
    }
   ],
   "source": [
    "#int veya floata çevirme\n",
    "a = int(input(\"Lütfen bir sayı giriniz:\")) # Veri tipi dönüşümü\n",
    "print(a * 3) "
   ]
  },
  {
   "cell_type": "code",
   "execution_count": null,
   "metadata": {},
   "outputs": [],
   "source": []
  }
 ],
 "metadata": {
  "kernelspec": {
   "display_name": "Python 3",
   "language": "python",
   "name": "python3"
  },
  "language_info": {
   "codemirror_mode": {
    "name": "ipython",
    "version": 3
   },
   "file_extension": ".py",
   "mimetype": "text/x-python",
   "name": "python",
   "nbconvert_exporter": "python",
   "pygments_lexer": "ipython3",
   "version": "3.7.3"
  }
 },
 "nbformat": 4,
 "nbformat_minor": 2
}
